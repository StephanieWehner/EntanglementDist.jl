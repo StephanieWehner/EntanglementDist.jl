{
 "cells": [
  {
   "cell_type": "markdown",
   "metadata": {},
   "source": [
    "# Optimizing Entanglement Distillation\n",
    "\n",
    "Below, we provide a number of examples illustrating the use of the Julia module \"EntanglementDist\" which implements the methods from arXiv:... For further information, please refer to the full documentation of this Julia module.\n",
    "\n",
    "It is assumed you have already installed EntanglementDist, as well as the modules required by it. Let's load them."
   ]
  },
  {
   "cell_type": "code",
   "execution_count": 1,
   "metadata": {
    "collapsed": false
   },
   "outputs": [],
   "source": [
    "using Convex;\n",
    "using SCS;\n",
    "using EntanglementDist;\n",
    "importall EntanglementDist;"
   ]
  },
  {
   "cell_type": "markdown",
   "metadata": {},
   "source": [
    "----\n",
    "## Example PPT Relaxation\n",
    "\n",
    "To start, let us compute an upper bound on the fidelity that is achievable by any distillation scheme using realistic operations, when we fix the success probability to be delta. Our first example will use the PPT relaxation method.\n",
    "\n",
    "The code below consideres three examples of interesting states implemented in EntanglementDist. The first is an EPR pair \n",
    "\n",
    "$ \n",
    "\\qquad \\rho = |\\Phi\\rangle\\langle \\Phi| \\qquad |\\Phi\\rangle = \\frac{1}{\\sqrt{2}}\\left(|0\\rangle_A |0\\rangle_B + |1\\rangle_A |1\\rangle_B\\right) \n",
    "$\n",
    "\n",
    "Evidently, when trying to distill the EPR pair to an EPR pair, the only sensible upper bound on the fidelity is 1, since doing nothing produces one EPR pair.\n",
    "\n",
    "A common example considered in the mathematical quantum information literature is the Werrner state exhibiting many symmetries.\n",
    "\n",
    "$\n",
    "\\qquad \\rho = p |\\Phi\\rangle\\langle \\Phi| + (1-p) \\frac{I}{4}\n",
    "$\n",
    "\n",
    "It is also interesting to consider a state with an othogonal noise term. We will call this the r-State\n",
    "\n",
    "$\n",
    "\\qquad \\rho = p |\\Phi\\rangle\\langle \\Phi| + (1-p) |01\\rangle \\langle 01|\n",
    "$\n",
    "\n",
    "### Single copy bounds\n",
    "\n",
    "Let us now first compute an upper bound when distilling one EPR pair, using exactly one copy of the state."
   ]
  },
  {
   "cell_type": "code",
   "execution_count": 2,
   "metadata": {
    "collapsed": false
   },
   "outputs": [
    {
     "name": "stdout",
     "output_type": "stream",
     "text": [
      "(size(coeff),size(var)) = ((4,4),(4,4))\n",
      "(size(coeff),size(var)) = ((4,4),(4,4))\n",
      "(size(coeff),size(var)) = ((4,4),(4,4))\n",
      "(size(coeff),size(var)) = ((4,4),(4,4))\n",
      "(size(coeff),size(var)) = ((4,4),(4,4))\n",
      "(size(coeff),size(var)) = ((4,4),(4,4))\n",
      "Original fidelity to the EPR pair 0.9\n",
      "The fidelity for success probability 0.8 can never exceed 0.917\n"
     ]
    }
   ],
   "source": [
    "# Example states\n",
    "\n",
    "# The werner state with probability p = 0.9\n",
    "# rho = wernerState(0.9);\n",
    "\n",
    "# The EPR pair\n",
    "# rho = maxEnt(2);\n",
    "\n",
    "# The r State with probability p = 0.9\n",
    "rho = rState(0.9);\n",
    "\n",
    "# Dimensions of what is A and B for this state\n",
    "nA = nB = 2;\n",
    "\n",
    "# (Local) dimension of the maximally entangled state we want to distill\n",
    "k = 2;\n",
    "\n",
    "# Desired probability of success\n",
    "delta = 0.8;\n",
    "\n",
    "# Upper bound F on the fidelity\n",
    "(problem, F, psucc) = pptRelax(rho, nA, nB, k, delta);\n",
    "\n",
    "print(\"Original fidelity to the EPR pair \", round(entFidelity(rho),3),\"\\n\");\n",
    "print(\"The fidelity for success probability \", delta, \" can never exceed \", round(F,3), \"\\n\");"
   ]
  },
  {
   "cell_type": "markdown",
   "metadata": {},
   "source": [
    "### Multiple copy bounds\n",
    "\n",
    "To compare let us now consider a situation in which we are given multiple copies $n$ of the state. Clearly, we should only obtain a higher bound."
   ]
  },
  {
   "cell_type": "code",
   "execution_count": 3,
   "metadata": {
    "collapsed": false
   },
   "outputs": [
    {
     "name": "stdout",
     "output_type": "stream",
     "text": [
      "(size(coeff),size(var)) = ((16,16),(16,16))\n",
      "(size(coeff),size(var)) = ((16,16),(16,16))\n",
      "(size(coeff),size(var)) = ((16,16),(16,16))\n",
      "(size(coeff),size(var)) = ((16,16),(16,16))\n",
      "(size(coeff),size(var)) = ((16,16),(16,16))\n",
      "(size(coeff),size(var)) = ((16,16),(16,16))\n",
      "Original fidelity to the max Entangled state 0.205\n",
      "For 2 copies, the fidelity for success probability 0.8 can never exceed 0.999\n"
     ]
    }
   ],
   "source": [
    "# Number of copies\n",
    "n = 2;\n",
    "\n",
    "# Compute fidelity bound\n",
    "(problem, F, psucc) = pptRelaxCopies(rho,n, nA, nB, k, delta);\n",
    "\n",
    "\n",
    "print(\"Original fidelity to the max Entangled state \", round(entFidelity(copies(rho,n)),3),\"\\n\");\n",
    "print(\"For \", n, \" copies, the fidelity for success probability \", delta, \" can never exceed \", round(F,3), \"\\n\");"
   ]
  },
  {
   "cell_type": "code",
   "execution_count": 4,
   "metadata": {
    "collapsed": false
   },
   "outputs": [
    {
     "name": "stdout",
     "output_type": "stream",
     "text": [
      "(size(coeff),size(var)) = ((8,8),(8,8))\n",
      "(size(coeff),size(var)) = ((8,8),(8,8))\n",
      "(size(coeff),size(var)) = ((8,8),(8,8))\n",
      "(size(coeff),size(var)) = ((8,8),(8,8))\n",
      "(size(coeff),size(var)) = ((8,8),(8,8))\n"
     ]
    }
   ],
   "source": [
    "v = (eVec(4,1) + im * eVec(4,4))/sqrt(2)\n",
    "rho1= v*v';\n",
    "p = 0.9;\n",
    "rho = p * rho1 + (1-p) * eye(4)/4;\n",
    "isQuantumState(rho)\n",
    "\n",
    "# rho=wernerState(0.9)\n",
    "(prob, F2,p2) = pptRelax(rho,2,2,2,0.9);"
   ]
  },
  {
   "cell_type": "code",
   "execution_count": 5,
   "metadata": {
    "collapsed": false
   },
   "outputs": [
    {
     "name": "stdout",
     "output_type": "stream",
     "text": [
      "(size(coeff),size(var)) = ((8,8),(8,8))\n"
     ]
    }
   ],
   "source": [
    "rho = wernerState(0.8)\n",
    "M= ComplexVariable(4,4);\n",
    "tv = Variable(1);\n",
    "problem = maximize(tv);\n",
    "problem.constraints += tv == trace(M*rho);\n",
    "problem.constraints += trace(M) == 1;\n",
    "problem.constraints += M in :SDP;\n",
    "solve!(problem,check_vexity=false)"
   ]
  },
  {
   "cell_type": "code",
   "execution_count": 6,
   "metadata": {
    "collapsed": false
   },
   "outputs": [
    {
     "data": {
      "text/plain": [
       "0.9752367327736398 - 1.5134103021103985e-11im"
      ]
     },
     "execution_count": 6,
     "metadata": {},
     "output_type": "execute_result"
    }
   ],
   "source": [
    "F2"
   ]
  },
  {
   "cell_type": "code",
   "execution_count": 7,
   "metadata": {
    "collapsed": false
   },
   "outputs": [
    {
     "name": "stdout",
     "output_type": "stream",
     "text": [
      "(size(coeff),size(var)) = "
     ]
    }
   ],
   "source": [
    "X = [0 1; 1 0]\n",
    "Y = [0 -im; im 0]\n",
    "Z = [1 0; 0 -1]\n",
    "rho = ComplexVariable(2, 2)\n",
    "prob = maximize(real(trace(rho * X)))\n",
    "prob.constraints += [rho in :SDP]\n",
    "prob.constraints += [trace(rho) == 1]\n",
    "prob.constraints += [trace(rho * Y) == 1/sqrt(2)]\n",
    "prob.constraints += [trace(rho * Z) == 0.5]\n",
    "solve!(prob, SCSSolver(verbose=0))"
   ]
  },
  {
   "cell_type": "markdown",
   "metadata": {},
   "source": [
    "### Producing plots\n",
    "\n",
    "Let us now illustrate how to produce plots upper bounding the fidelity. We will compare these plots to two well known entanglement distillation schemes in case we have 2 2x2 states to distill, namely the DEJMPS and BBPSSW protocols.\n",
    "\n",
    "First, let's produce the necessary data. This will take some time to compute."
   ]
  },
  {
   "cell_type": "code",
   "execution_count": null,
   "metadata": {
    "collapsed": false
   },
   "outputs": [
    {
     "name": "stdout",
     "output_type": "stream",
     "text": [
      "(size(coeff),size(var)) = ((16,16),(16,16))\n",
      "(size(coeff),size(var)) = ((16,16),(16,16))\n",
      "(size(coeff),size(var)) = ((16,16),(16,16))\n",
      "(size(coeff),size(var)) = ((16,16),(16,16))\n",
      "(size(coeff),size(var)) = ((16,16),(16,16))\n",
      "(size(coeff),size(var)) = ((16,16),(16,16))\n",
      "(size(coeff),size(var)) = ((16,16),(16,16))\n",
      "(size(coeff),size(var)) = ((16,16),(16,16))\n",
      "(size(coeff),size(var)) = ((16,16),(16,16))\n",
      "(size(coeff),size(var)) = ((16,16),(16,16))\n",
      "(size(coeff),size(var)) = ((16,16),(16,16))\n",
      "(size(coeff),size(var)) = ((16,16),(16,16))\n",
      "(size(coeff),size(var)) = ((16,16),(16,16))\n",
      "(size(coeff),size(var)) = ((16,16),(16,16))\n",
      "(size(coeff),size(var)) = ((16,16),(16,16))\n",
      "(size(coeff),size(var)) = ((16,16),(16,16))\n",
      "(size(coeff),size(var)) = ((16,16),(16,16))\n",
      "(size(coeff),size(var)) = ((16,16),(16,16))\n",
      "(size(coeff),size(var)) = ((16,16),(16,16))\n",
      "(size(coeff),size(var)) = ((16,16),(16,16))\n",
      "(size(coeff),size(var)) = ((16,16),(16,16))\n",
      "(size(coeff),size(var)) = ((16,16),(16,16))\n",
      "(size(coeff),size(var)) = ((16,16),(16,16))\n",
      "(size(coeff),size(var)) = ((16,16),(16,16))\n"
     ]
    }
   ],
   "source": [
    "# State to distill\n",
    "rho = wernerState(0.9);\n",
    "nA = nB = 2;\n",
    "\n",
    "# Number of copies\n",
    "n = 2;\n",
    "\n",
    "# Dimension of max entangled state to produce\n",
    "k = 2;\n",
    "\n",
    "# Number of points of success probability\n",
    "steps = 10;\n",
    "\n",
    "# Compute all data, this will take a while\n",
    "pVec = Float64[];\n",
    "FVec = Float64[];\n",
    "\n",
    "for j = 0:steps\n",
    "    p = j * 1/steps; \n",
    "    (problem, F, pR) = pptRelaxCopies(rho,n, nA, nB, k, p);\n",
    "    push!(FVec, F);\n",
    "    push!(pVec, p);\n",
    "end\n",
    "\n",
    "# If the success probability is 0, we can have F=1\n",
    "FVec[1]=1;"
   ]
  },
  {
   "cell_type": "code",
   "execution_count": null,
   "metadata": {
    "collapsed": false
   },
   "outputs": [],
   "source": [
    "# Load the graphics package\n",
    "using Gadfly;"
   ]
  },
  {
   "cell_type": "markdown",
   "metadata": {},
   "source": [
    "Let's now plot the data. Note that it may take a while for the plot to appear, depending on your computer."
   ]
  },
  {
   "cell_type": "code",
   "execution_count": null,
   "metadata": {
    "collapsed": false
   },
   "outputs": [],
   "source": [
    "# Set up the plot\n",
    "titleName = \"Example\";\n",
    "\n",
    "PPTLayer = layer(x=pVec, y=FVec, Geom.line, Theme(default_color=colorant\"blue\"));\n",
    "\n",
    "layers = typeof(PPTLayer)[];\n",
    "names = AbstractString[];\n",
    "colors = AbstractString[];\n",
    "push!(layers, PPTLayer)\n",
    "push!(names, \"PPT\")\n",
    "push!(colors, \"blue\")\n",
    "\n",
    "# Include schemes in plots if we distill 2 2x2 states\n",
    "if (n==2) && (nA == 2) && (nB==2)\n",
    "    (F, p_succ) = deutschParam(rho);\n",
    "    deutschLayer = layer(y = [F], x = [p_succ], Geom.point, Theme(default_color=colorant\"cyan\"));\n",
    "    (F, p_succ) = bennettParam(rho);\n",
    "    bennettLayer = layer(y = [F], x = [p_succ], Geom.point, Theme(default_color=colorant\"orange\"))\n",
    "\n",
    "    unshift!(layers, deutschLayer)\n",
    "    unshift!(layers, bennettLayer)\n",
    "    unshift!(names, \"DEJMPS protocol\")\n",
    "    unshift!(names, \"BBPSSW protocol\")\n",
    "    unshift!(colors, \"cyan\")\n",
    "    unshift!(colors, \"orange\")\n",
    "\n",
    "\n",
    "    # draw(PDF(string(\"plot.pdf\"), 4inch, 3inch), pl);\n",
    "    pl = plot(Theme(panel_fill=colorant\"white\"),layers...,Guide.xlabel(\"Probability of success\"),\n",
    "       Stat.xticks(ticks=collect(0:0.1:1)),\n",
    "          Stat.yticks(ticks=collect(0.5:0.1:1)),\n",
    "        Guide.ylabel(\"Fidelity\"),\n",
    "        Guide.title(titleName),\n",
    "        Guide.manual_color_key(\"Legend\",\n",
    "        names,\n",
    "        colors))\n",
    "end\n",
    "\n"
   ]
  },
  {
   "cell_type": "markdown",
   "metadata": {
    "collapsed": true
   },
   "source": [
    "If you wish, save the plot "
   ]
  },
  {
   "cell_type": "code",
   "execution_count": null,
   "metadata": {
    "collapsed": false
   },
   "outputs": [],
   "source": [
    "# Save the plot\n",
    "filename = \"Example\";\n",
    "draw(PNG(string(filename ,\".png\"), 600px, 300px), pl)\n",
    "draw(PDF(string(filename ,\".pdf\"), 4inch, 3inch), pl)"
   ]
  },
  {
   "cell_type": "markdown",
   "metadata": {},
   "source": [
    "-----\n",
    "## Example Symmetric Extensions\n",
    "\n",
    "Let us now consider some examples of deriving bounds using the PPT relaxation, enhanced by also performing symmetric extensions. EntanglementDist implements 1 and 2-extensions, which are generally feasible to compute for small instances. Note that employing extensions does not always yield improvements.\n",
    "\n",
    "Let us for the same example compute the values from the PPT relaxation, as well as 1 and 2 extensions for comparison."
   ]
  },
  {
   "cell_type": "code",
   "execution_count": null,
   "metadata": {
    "collapsed": false
   },
   "outputs": [],
   "source": [
    "# Example states\n",
    "\n",
    "# The werner state with probability p = 0.9\n",
    "#rho = wernerState(0.9);\n",
    "\n",
    "# The EPR pair\n",
    "# rho = maxEnt(2);\n",
    "\n",
    "# The r State with probability p = 0.9\n",
    "rho = rState(0.9);\n",
    "\n",
    "# Dimensions of what is A and B for this state\n",
    "nA = nB = 2;\n",
    "\n",
    "# (Local) dimension of the maximally entangled state we want to distill\n",
    "k = 2;\n",
    "\n",
    "# Desired probability of success\n",
    "delta = 0.8;\n",
    "\n",
    "# First the PPT relaxation\n",
    "(problem, Fppt, psucc) = pptRelax(rho, nA, nB, k, delta);\n",
    "\n",
    "\n",
    "# 1 extension\n",
    "(problem, F1ext, psucc) = pptRelax1Ext(rho, nA, nB, k, delta);\n",
    "\n",
    "\n",
    "# 2 extension\n",
    "(problem, F2ext, psucc) = pptRelax2Ext(rho, nA, nB, k, delta);\n",
    "\n",
    "print(\"\\n\\nComputing relaxations for success probability p_succ=\", delta, \"\\n\");\n",
    "print(\"PPT Relaxation: F <= \", round(Fppt,3), \"\\n\");\n",
    "print(\"1-Extension + PPT: F <= \", round(F1ext,3), \"\\n\");\n",
    "print(\"2-Extension + PPT: F <= \", round(F2ext,3),\"\\n\");"
   ]
  },
  {
   "cell_type": "markdown",
   "metadata": {},
   "source": [
    "---- \n",
    "## Example Seesaw Optimization\n",
    "\n",
    "While the above methods are concerned with deriving upper bounds on the fidelity, the seesaw method tries to find a better protocol starting from an existing distillation protocol. \n",
    "\n",
    "EntanglementDist implements such a seesaw optimization. The existing protocol must use realistic operations. That is, it consists of a map $\\Lambda_{A\\rightarrow \\hat{A}, F_A}$ for Alice and $\\Lambda_{B\\rightarrow \\hat{B},F_B}$ for Bob, followed by a measurement of the flag registers $F_A$, $F_B$ to decide to success or failure that is implemented by a local measurement plus classical communication. For example, success may be decided by the measurement $\\{P,I-P\\}$, where $P = |11\\rangle\\langle 11|_{F_A,F_B}$. \n",
    "\n",
    "The seesaw function takes as inputs the Choi states of Alice and Bob \n",
    "\n",
    "$\n",
    "C_{\\hat{A},F_A,A'} = \\Lambda_{A\\rightarrow \\hat{A},F_A} \\otimes I_{A'}(\\Phi_{AA'})\\\\\n",
    "C_{\\hat{B},F_B,B'} = \\Lambda_{B\\rightarrow \\hat{B},F_B} \\otimes I_{B'}(\\Phi_{BB'})\n",
    "$\n",
    "\n",
    "where $\\Phi_{AA'}$ and $\\Phi_{BB'}$ is the normalized maximally entangled state across $A, A'$ and $B,B'$, where $A'$ and $B'$ are copies of $A$ and $B$ respectively. In addition, it demands the projector $P$ deciding success.\n",
    "\n",
    "The following example starts from a well known filtering scheme, here adapted to the state \n",
    "\n",
    "$\n",
    "\\rho = p |\\Phi\\rangle\\langle \\Phi| + (1-p) |01\\rangle\\langle 01|\n",
    "$\n",
    "\n",
    "In terms of a generalized measurement, this scheme is written as Alice performing a measurement $\\{M_A^{ok},I-M_A^{ok}\\}$ with $M_A^{ok} = \\sqrt{\\epsilon} |0\\rangle\\langle 0| + |1\\rangle \\langle 1|$, and Bob a measurement given by\n",
    "$\\{M_B^{ok},I-M_B^{ok}\\}$ with $M_B^{ok} = \\sqrt{\\epsilon} |1\\rangle\\langle 1| + |0\\rangle \\langle 0|$. If both obtain outcome ``ok``, they declare success. It is easy to obtain choi states for such schemes using the functionality of EntanglementDist by using measureSchemeMakeChoi, or measureScheme to actually compute its performance. For the filtering scheme, this is already implemented using the function filteringMakeChoi as used in the example below."
   ]
  },
  {
   "cell_type": "code",
   "execution_count": null,
   "metadata": {
    "collapsed": false
   },
   "outputs": [],
   "source": [
    "# Let's set the parameter epsilon in the filtering protocol (See above)\n",
    "eps = 0.2;\n",
    "\n",
    "# Customized state: here the filtering is always better, but the seesaw\n",
    "# even better\n",
    "p = 0.7\n",
    "rho = p * maxEnt(2) + (1-p) * eVec(4,1)*eVec(4,1)';\n",
    "\n",
    "# Output initial fidelity\n",
    "Finit = entFidelity(rho);\n",
    "print(\"Initial fidelity is F=\", round(Finit,3), \"\\n\");\n",
    "\n",
    "# Test the seesaw optimization for the filtering scheme\n",
    "# Adapted to work well for states of the form p EPR + (1-p) |01><01|\n",
    "print(\"Testing the seesaw method\\n\");\n",
    "print(\"Epsilon is set to \", eps, \"\\n\");\n",
    "\n",
    "print(\"Computing Choi states\\n\");\n",
    "(CA,CB) = filteringMakeChoi(eps);\n",
    "print(\"Compute the filtering performance without Choi state to double check:\\n\");\n",
    "(rhoQC, P, Fwo, pwo) = filtering(rho, eps);\n",
    "print(\"Checked F=\",round(Fwo,3), \" and psucc=\",round(pwo,3),\"\\n\");\n",
    "\n",
    "print(\"Run the SEESAW Optimization\\n\");\n",
    "(newCA, newCB, Fnew, pnew) = seesaw(rho,2,2,2,CA, CB, P);"
   ]
  },
  {
   "cell_type": "code",
   "execution_count": null,
   "metadata": {
    "collapsed": true
   },
   "outputs": [],
   "source": []
  }
 ],
 "metadata": {
  "anaconda-cloud": {},
  "kernelspec": {
   "display_name": "Julia 0.5.0",
   "language": "julia",
   "name": "julia-0.5"
  },
  "language_info": {
   "file_extension": ".jl",
   "mimetype": "application/julia",
   "name": "julia",
   "version": "0.5.0"
  }
 },
 "nbformat": 4,
 "nbformat_minor": 0
}
